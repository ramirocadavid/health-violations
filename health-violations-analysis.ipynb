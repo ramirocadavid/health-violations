{
 "cells": [
  {
   "cell_type": "markdown",
   "metadata": {},
   "source": [
    "# Health Violations "
   ]
  },
  {
   "cell_type": "markdown",
   "metadata": {},
   "source": [
    "This notebook contains an end-to-end implementation of a `PySpark` application in an AWS EMR cluster. It is mostly based in the [Getting started with Amazon EMR](https://docs.aws.amazon.com/emr/latest/ManagementGuide/emr-gs.html) tutorial."
   ]
  },
  {
   "cell_type": "markdown",
   "metadata": {},
   "source": [
    "## Plan and configure AWS EMR cluster"
   ]
  },
  {
   "cell_type": "markdown",
   "metadata": {},
   "source": [
    "### Prepare storage"
   ]
  },
  {
   "cell_type": "markdown",
   "metadata": {},
   "source": [
    "Create bucket"
   ]
  },
  {
   "cell_type": "code",
   "execution_count": 1,
   "metadata": {},
   "outputs": [
    {
     "name": "stdout",
     "output_type": "stream",
     "text": [
      "{\n",
      "    \"Location\": \"/emr20220705-bucket\"\n",
      "}\n"
     ]
    }
   ],
   "source": [
    "!aws s3api create-bucket \\\n",
    "--bucket emr20220705-bucket \\\n",
    "--region us-east-1"
   ]
  },
  {
   "cell_type": "markdown",
   "metadata": {},
   "source": [
    "Prepare application with input data for EMR"
   ]
  },
  {
   "cell_type": "code",
   "execution_count": 2,
   "metadata": {},
   "outputs": [
    {
     "name": "stdout",
     "output_type": "stream",
     "text": [
      "Overwriting health_violations.py\n"
     ]
    }
   ],
   "source": [
    "%%writefile health_violations.py\n",
    "import argparse\n",
    "\n",
    "from pyspark.sql import SparkSession\n",
    "\n",
    "def calculate_red_violations(data_source, output_uri):\n",
    "    \"\"\"\n",
    "    Processes sample food establishment inspection data and queries the data to find the top 10 establishments\n",
    "    with the most Red violations from 2006 to 2020.\n",
    "\n",
    "    :param data_source: The URI of your food establishment data CSV, such as 's3://DOC-EXAMPLE-BUCKET/food-establishment-data.csv'.\n",
    "    :param output_uri: The URI where output is written, such as 's3://DOC-EXAMPLE-BUCKET/restaurant_violation_results'.\n",
    "    \"\"\"\n",
    "    with SparkSession.builder.appName(\"Calculate Red Health Violations\").getOrCreate() as spark:\n",
    "        # Load the restaurant violation CSV data\n",
    "        if data_source is not None:\n",
    "            restaurants_df = spark.read.option(\"header\", \"true\").csv(data_source)\n",
    "\n",
    "        # Create an in-memory DataFrame to query\n",
    "        restaurants_df.createOrReplaceTempView(\"restaurant_violations\")\n",
    "\n",
    "        # Create a DataFrame of the top 10 restaurants with the most Red violations\n",
    "        top_red_violation_restaurants = spark.sql(\"\"\"SELECT name, count(*) AS total_red_violations \n",
    "          FROM restaurant_violations \n",
    "          WHERE violation_type = 'RED' \n",
    "          GROUP BY name \n",
    "          ORDER BY total_red_violations DESC LIMIT 10\"\"\")\n",
    "\n",
    "        # Write the results to the specified output URI\n",
    "        top_red_violation_restaurants.write.option(\"header\", \"true\").mode(\"overwrite\").csv(output_uri)\n",
    "\n",
    "if __name__ == \"__main__\":\n",
    "    parser = argparse.ArgumentParser()\n",
    "    parser.add_argument(\n",
    "        '--data_source', help=\"The URI for you CSV restaurant data, like an S3 bucket location.\")\n",
    "    parser.add_argument(\n",
    "        '--output_uri', help=\"The URI where output is saved, like an S3 bucket location.\")\n",
    "    args = parser.parse_args()\n",
    "\n",
    "    calculate_red_violations(args.data_source, args.output_uri)\n"
   ]
  },
  {
   "cell_type": "markdown",
   "metadata": {},
   "source": [
    "Load script to S3"
   ]
  },
  {
   "cell_type": "code",
   "execution_count": 11,
   "metadata": {},
   "outputs": [
    {
     "name": "stdout",
     "output_type": "stream",
     "text": [
      "{\n",
      "    \"ETag\": \"\\\"d41d8cd98f00b204e9800998ecf8427e\\\"\"\n",
      "}\n"
     ]
    }
   ],
   "source": [
    "!aws s3api put-object \\\n",
    "--bucket emr20220705-bucket \\\n",
    "--key health_violations.py \\\n",
    "--body health_violations.py"
   ]
  },
  {
   "cell_type": "markdown",
   "metadata": {},
   "source": [
    "Download and unzip data"
   ]
  },
  {
   "cell_type": "code",
   "execution_count": 4,
   "metadata": {},
   "outputs": [
    {
     "name": "stdout",
     "output_type": "stream",
     "text": [
      "  % Total    % Received % Xferd  Average Speed   Time    Time     Time  Current\n",
      "                                 Dload  Upload   Total   Spent    Left  Speed\n",
      "100  567k  100  567k    0     0   649k      0 --:--:-- --:--:-- --:--:--  649k\n"
     ]
    }
   ],
   "source": [
    "!curl -O https://docs.aws.amazon.com/emr/latest/ManagementGuide/samples/food_establishment_data.zip"
   ]
  },
  {
   "cell_type": "code",
   "execution_count": 5,
   "metadata": {},
   "outputs": [
    {
     "name": "stdout",
     "output_type": "stream",
     "text": [
      "Archive:  food_establishment_data.zip\n",
      "  inflating: food_establishment_data.csv  \n"
     ]
    }
   ],
   "source": [
    "!unzip food_establishment_data.zip"
   ]
  },
  {
   "cell_type": "markdown",
   "metadata": {},
   "source": [
    "Load data to S3"
   ]
  },
  {
   "cell_type": "code",
   "execution_count": 5,
   "metadata": {},
   "outputs": [
    {
     "name": "stdout",
     "output_type": "stream",
     "text": [
      "{\n",
      "    \"ETag\": \"\\\"d41d8cd98f00b204e9800998ecf8427e\\\"\"\n",
      "}\n"
     ]
    }
   ],
   "source": [
    "!aws s3api put-object \\\n",
    "--bucket emr20220705-bucket \\\n",
    "--key food_establishment_data.csv"
   ]
  },
  {
   "cell_type": "code",
   "execution_count": 17,
   "metadata": {},
   "outputs": [
    {
     "name": "stdout",
     "output_type": "stream",
     "text": [
      "\u001b[1;39m{\n",
      "  \u001b[0m\u001b[34;1m\"Key\"\u001b[0m\u001b[1;39m: \u001b[0m\u001b[0;32m\"food_establishment_data.csv\"\u001b[0m\u001b[1;39m,\n",
      "  \u001b[0m\u001b[34;1m\"LastModified\"\u001b[0m\u001b[1;39m: \u001b[0m\u001b[0;32m\"2022-07-06T16:09:26+00:00\"\u001b[0m\u001b[1;39m,\n",
      "  \u001b[0m\u001b[34;1m\"ETag\"\u001b[0m\u001b[1;39m: \u001b[0m\u001b[0;32m\"\\\"bac70373588490a8c1be0a71be46df85\\\"\"\u001b[0m\u001b[1;39m,\n",
      "  \u001b[0m\u001b[34;1m\"Size\"\u001b[0m\u001b[1;39m: \u001b[0m\u001b[0;39m11879954\u001b[0m\u001b[1;39m,\n",
      "  \u001b[0m\u001b[34;1m\"StorageClass\"\u001b[0m\u001b[1;39m: \u001b[0m\u001b[0;32m\"STANDARD\"\u001b[0m\u001b[1;39m,\n",
      "  \u001b[0m\u001b[34;1m\"Owner\"\u001b[0m\u001b[1;39m: \u001b[0m\u001b[1;39m{\n",
      "    \u001b[0m\u001b[34;1m\"DisplayName\"\u001b[0m\u001b[1;39m: \u001b[0m\u001b[0;32m\"ramirocadavid\"\u001b[0m\u001b[1;39m,\n",
      "    \u001b[0m\u001b[34;1m\"ID\"\u001b[0m\u001b[1;39m: \u001b[0m\u001b[0;32m\"473deab5a66936901bdb14e2e649f82810cd9ba06781c2e41076db8af13ba357\"\u001b[0m\u001b[1;39m\n",
      "  \u001b[1;39m}\u001b[0m\u001b[1;39m\n",
      "\u001b[1;39m}\u001b[0m\n",
      "\u001b[1;39m{\n",
      "  \u001b[0m\u001b[34;1m\"Key\"\u001b[0m\u001b[1;39m: \u001b[0m\u001b[0;32m\"health_violations.py\"\u001b[0m\u001b[1;39m,\n",
      "  \u001b[0m\u001b[34;1m\"LastModified\"\u001b[0m\u001b[1;39m: \u001b[0m\u001b[0;32m\"2022-07-06T16:10:50+00:00\"\u001b[0m\u001b[1;39m,\n",
      "  \u001b[0m\u001b[34;1m\"ETag\"\u001b[0m\u001b[1;39m: \u001b[0m\u001b[0;32m\"\\\"96241d93d4b3514f913993c12b72ae41\\\"\"\u001b[0m\u001b[1;39m,\n",
      "  \u001b[0m\u001b[34;1m\"Size\"\u001b[0m\u001b[1;39m: \u001b[0m\u001b[0;39m1836\u001b[0m\u001b[1;39m,\n",
      "  \u001b[0m\u001b[34;1m\"StorageClass\"\u001b[0m\u001b[1;39m: \u001b[0m\u001b[0;32m\"STANDARD\"\u001b[0m\u001b[1;39m,\n",
      "  \u001b[0m\u001b[34;1m\"Owner\"\u001b[0m\u001b[1;39m: \u001b[0m\u001b[1;39m{\n",
      "    \u001b[0m\u001b[34;1m\"DisplayName\"\u001b[0m\u001b[1;39m: \u001b[0m\u001b[0;32m\"ramirocadavid\"\u001b[0m\u001b[1;39m,\n",
      "    \u001b[0m\u001b[34;1m\"ID\"\u001b[0m\u001b[1;39m: \u001b[0m\u001b[0;32m\"473deab5a66936901bdb14e2e649f82810cd9ba06781c2e41076db8af13ba357\"\u001b[0m\u001b[1;39m\n",
      "  \u001b[1;39m}\u001b[0m\u001b[1;39m\n",
      "\u001b[1;39m}\u001b[0m\n"
     ]
    }
   ],
   "source": [
    "!aws s3api list-objects --bucket emr20220705-bucket | jq .Contents[]"
   ]
  },
  {
   "cell_type": "markdown",
   "metadata": {},
   "source": [
    "### Launch EMR cluster"
   ]
  },
  {
   "cell_type": "markdown",
   "metadata": {},
   "source": [
    "Create IAM [default roles](https://docs.aws.amazon.com/cli/latest/reference/emr/create-default-roles.html) that will be used to create the cluster"
   ]
  },
  {
   "cell_type": "code",
   "execution_count": 9,
   "metadata": {},
   "outputs": [
    {
     "name": "stdout",
     "output_type": "stream",
     "text": [
      "[\n",
      "    {\n",
      "        \"Role\": {\n",
      "            \"Path\": \"/\",\n",
      "            \"RoleName\": \"EMR_EC2_DefaultRole\",\n",
      "            \"RoleId\": \"AROATCWRPAY4I7ULTDGBO\",\n",
      "            \"Arn\": \"arn:aws:iam::211966428728:role/EMR_EC2_DefaultRole\",\n",
      "            \"CreateDate\": \"2022-07-05T20:04:55+00:00\",\n",
      "            \"AssumeRolePolicyDocument\": {\n",
      "                \"Version\": \"2008-10-17\",\n",
      "                \"Statement\": [\n",
      "                    {\n",
      "                        \"Sid\": \"\",\n",
      "                        \"Effect\": \"Allow\",\n",
      "                        \"Principal\": {\n",
      "                            \"Service\": \"ec2.amazonaws.com\"\n",
      "                        },\n",
      "                        \"Action\": \"sts:AssumeRole\"\n",
      "                    }\n",
      "                ]\n",
      "            }\n",
      "        },\n",
      "        \"RolePolicy\": {\n",
      "            \"Version\": \"2012-10-17\",\n",
      "            \"Statement\": [\n",
      "                {\n",
      "                    \"Effect\": \"Allow\",\n",
      "                    \"Resource\": \"*\",\n",
      "                    \"Action\": [\n",
      "                        \"cloudwatch:*\",\n",
      "                        \"dynamodb:*\",\n",
      "                        \"ec2:Describe*\",\n",
      "                        \"elasticmapreduce:Describe*\",\n",
      "                        \"elasticmapreduce:ListBootstrapActions\",\n",
      "                        \"elasticmapreduce:ListClusters\",\n",
      "                        \"elasticmapreduce:ListInstanceGroups\",\n",
      "                        \"elasticmapreduce:ListInstances\",\n",
      "                        \"elasticmapreduce:ListSteps\",\n",
      "                        \"kinesis:CreateStream\",\n",
      "                        \"kinesis:DeleteStream\",\n",
      "                        \"kinesis:DescribeStream\",\n",
      "                        \"kinesis:GetRecords\",\n",
      "                        \"kinesis:GetShardIterator\",\n",
      "                        \"kinesis:MergeShards\",\n",
      "                        \"kinesis:PutRecord\",\n",
      "                        \"kinesis:SplitShard\",\n",
      "                        \"rds:Describe*\",\n",
      "                        \"s3:*\",\n",
      "                        \"sdb:*\",\n",
      "                        \"sns:*\",\n",
      "                        \"sqs:*\",\n",
      "                        \"glue:CreateDatabase\",\n",
      "                        \"glue:UpdateDatabase\",\n",
      "                        \"glue:DeleteDatabase\",\n",
      "                        \"glue:GetDatabase\",\n",
      "                        \"glue:GetDatabases\",\n",
      "                        \"glue:CreateTable\",\n",
      "                        \"glue:UpdateTable\",\n",
      "                        \"glue:DeleteTable\",\n",
      "                        \"glue:GetTable\",\n",
      "                        \"glue:GetTables\",\n",
      "                        \"glue:GetTableVersions\",\n",
      "                        \"glue:CreatePartition\",\n",
      "                        \"glue:BatchCreatePartition\",\n",
      "                        \"glue:UpdatePartition\",\n",
      "                        \"glue:DeletePartition\",\n",
      "                        \"glue:BatchDeletePartition\",\n",
      "                        \"glue:GetPartition\",\n",
      "                        \"glue:GetPartitions\",\n",
      "                        \"glue:BatchGetPartition\",\n",
      "                        \"glue:CreateUserDefinedFunction\",\n",
      "                        \"glue:UpdateUserDefinedFunction\",\n",
      "                        \"glue:DeleteUserDefinedFunction\",\n",
      "                        \"glue:GetUserDefinedFunction\",\n",
      "                        \"glue:GetUserDefinedFunctions\"\n",
      "                    ]\n",
      "                }\n",
      "            ]\n",
      "        }\n",
      "    },\n",
      "    {\n",
      "        \"Role\": {\n",
      "            \"Path\": \"/\",\n",
      "            \"RoleName\": \"EMR_DefaultRole\",\n",
      "            \"RoleId\": \"AROATCWRPAY4FHSQYLOCE\",\n",
      "            \"Arn\": \"arn:aws:iam::211966428728:role/EMR_DefaultRole\",\n",
      "            \"CreateDate\": \"2022-07-05T20:05:01+00:00\",\n",
      "            \"AssumeRolePolicyDocument\": {\n",
      "                \"Version\": \"2008-10-17\",\n",
      "                \"Statement\": [\n",
      "                    {\n",
      "                        \"Sid\": \"\",\n",
      "                        \"Effect\": \"Allow\",\n",
      "                        \"Principal\": {\n",
      "                            \"Service\": \"elasticmapreduce.amazonaws.com\"\n",
      "                        },\n",
      "                        \"Action\": \"sts:AssumeRole\"\n",
      "                    }\n",
      "                ]\n",
      "            }\n",
      "        },\n",
      "        \"RolePolicy\": {\n",
      "            \"Version\": \"2012-10-17\",\n",
      "            \"Statement\": [\n",
      "                {\n",
      "                    \"Effect\": \"Allow\",\n",
      "                    \"Resource\": \"*\",\n",
      "                    \"Action\": [\n",
      "                        \"ec2:AuthorizeSecurityGroupEgress\",\n",
      "                        \"ec2:AuthorizeSecurityGroupIngress\",\n",
      "                        \"ec2:CancelSpotInstanceRequests\",\n",
      "                        \"ec2:CreateFleet\",\n",
      "                        \"ec2:CreateLaunchTemplate\",\n",
      "                        \"ec2:CreateNetworkInterface\",\n",
      "                        \"ec2:CreateSecurityGroup\",\n",
      "                        \"ec2:CreateTags\",\n",
      "                        \"ec2:DeleteLaunchTemplate\",\n",
      "                        \"ec2:DeleteNetworkInterface\",\n",
      "                        \"ec2:DeleteSecurityGroup\",\n",
      "                        \"ec2:DeleteTags\",\n",
      "                        \"ec2:DescribeAvailabilityZones\",\n",
      "                        \"ec2:DescribeAccountAttributes\",\n",
      "                        \"ec2:DescribeDhcpOptions\",\n",
      "                        \"ec2:DescribeImages\",\n",
      "                        \"ec2:DescribeInstanceStatus\",\n",
      "                        \"ec2:DescribeInstances\",\n",
      "                        \"ec2:DescribeKeyPairs\",\n",
      "                        \"ec2:DescribeLaunchTemplates\",\n",
      "                        \"ec2:DescribeNetworkAcls\",\n",
      "                        \"ec2:DescribeNetworkInterfaces\",\n",
      "                        \"ec2:DescribePrefixLists\",\n",
      "                        \"ec2:DescribeRouteTables\",\n",
      "                        \"ec2:DescribeSecurityGroups\",\n",
      "                        \"ec2:DescribeSpotInstanceRequests\",\n",
      "                        \"ec2:DescribeSpotPriceHistory\",\n",
      "                        \"ec2:DescribeSubnets\",\n",
      "                        \"ec2:DescribeTags\",\n",
      "                        \"ec2:DescribeVpcAttribute\",\n",
      "                        \"ec2:DescribeVpcEndpoints\",\n",
      "                        \"ec2:DescribeVpcEndpointServices\",\n",
      "                        \"ec2:DescribeVpcs\",\n",
      "                        \"ec2:DetachNetworkInterface\",\n",
      "                        \"ec2:ModifyImageAttribute\",\n",
      "                        \"ec2:ModifyInstanceAttribute\",\n",
      "                        \"ec2:RequestSpotInstances\",\n",
      "                        \"ec2:RevokeSecurityGroupEgress\",\n",
      "                        \"ec2:RunInstances\",\n",
      "                        \"ec2:TerminateInstances\",\n",
      "                        \"ec2:DeleteVolume\",\n",
      "                        \"ec2:DescribeVolumeStatus\",\n",
      "                        \"ec2:DescribeVolumes\",\n",
      "                        \"ec2:DetachVolume\",\n",
      "                        \"iam:GetRole\",\n",
      "                        \"iam:GetRolePolicy\",\n",
      "                        \"iam:ListInstanceProfiles\",\n",
      "                        \"iam:ListRolePolicies\",\n",
      "                        \"iam:PassRole\",\n",
      "                        \"s3:CreateBucket\",\n",
      "                        \"s3:Get*\",\n",
      "                        \"s3:List*\",\n",
      "                        \"sdb:BatchPutAttributes\",\n",
      "                        \"sdb:Select\",\n",
      "                        \"sqs:CreateQueue\",\n",
      "                        \"sqs:Delete*\",\n",
      "                        \"sqs:GetQueue*\",\n",
      "                        \"sqs:PurgeQueue\",\n",
      "                        \"sqs:ReceiveMessage\",\n",
      "                        \"cloudwatch:PutMetricAlarm\",\n",
      "                        \"cloudwatch:DescribeAlarms\",\n",
      "                        \"cloudwatch:DeleteAlarms\",\n",
      "                        \"application-autoscaling:RegisterScalableTarget\",\n",
      "                        \"application-autoscaling:DeregisterScalableTarget\",\n",
      "                        \"application-autoscaling:PutScalingPolicy\",\n",
      "                        \"application-autoscaling:DeleteScalingPolicy\",\n",
      "                        \"application-autoscaling:Describe*\"\n",
      "                    ]\n",
      "                },\n",
      "                {\n",
      "                    \"Effect\": \"Allow\",\n",
      "                    \"Action\": \"iam:CreateServiceLinkedRole\",\n",
      "                    \"Resource\": \"arn:aws:iam::*:role/aws-service-role/spot.amazonaws.com/AWSServiceRoleForEC2Spot*\",\n",
      "                    \"Condition\": {\n",
      "                        \"StringLike\": {\n",
      "                            \"iam:AWSServiceName\": \"spot.amazonaws.com\"\n",
      "                        }\n",
      "                    }\n",
      "                }\n",
      "            ]\n",
      "        }\n",
      "    },\n",
      "    {\n",
      "        \"Role\": {\n",
      "            \"Path\": \"/\",\n",
      "            \"RoleName\": \"EMR_AutoScaling_DefaultRole\",\n",
      "            \"RoleId\": \"AROATCWRPAY4A53Q7BA64\",\n",
      "            \"Arn\": \"arn:aws:iam::211966428728:role/EMR_AutoScaling_DefaultRole\",\n",
      "            \"CreateDate\": \"2022-07-05T20:05:03+00:00\",\n",
      "            \"AssumeRolePolicyDocument\": {\n",
      "                \"Version\": \"2008-10-17\",\n",
      "                \"Statement\": [\n",
      "                    {\n",
      "                        \"Sid\": \"\",\n",
      "                        \"Effect\": \"Allow\",\n",
      "                        \"Principal\": {\n",
      "                            \"Service\": [\n",
      "                                \"elasticmapreduce.amazonaws.com\",\n",
      "                                \"application-autoscaling.amazonaws.com\"\n",
      "                            ]\n",
      "                        },\n",
      "                        \"Action\": \"sts:AssumeRole\"\n",
      "                    }\n",
      "                ]\n",
      "            }\n",
      "        },\n",
      "        \"RolePolicy\": {\n",
      "            \"Version\": \"2012-10-17\",\n",
      "            \"Statement\": [\n",
      "                {\n",
      "                    \"Action\": [\n",
      "                        \"cloudwatch:DescribeAlarms\",\n",
      "                        \"elasticmapreduce:ListInstanceGroups\",\n",
      "                        \"elasticmapreduce:ModifyInstanceGroups\"\n",
      "                    ],\n",
      "                    \"Effect\": \"Allow\",\n",
      "                    \"Resource\": \"*\"\n",
      "                }\n",
      "            ]\n",
      "        }\n",
      "    }\n",
      "]\n"
     ]
    }
   ],
   "source": [
    "!aws emr create-default-roles"
   ]
  },
  {
   "cell_type": "markdown",
   "metadata": {},
   "source": [
    "Create Spark Cluster"
   ]
  },
  {
   "cell_type": "code",
   "execution_count": 18,
   "metadata": {},
   "outputs": [
    {
     "name": "stdout",
     "output_type": "stream",
     "text": [
      "{\n",
      "    \"ClusterId\": \"j-1ETWETHEL7UQQ\",\n",
      "    \"ClusterArn\": \"arn:aws:elasticmapreduce:us-east-1:211966428728:cluster/j-1ETWETHEL7UQQ\"\n",
      "}\n"
     ]
    }
   ],
   "source": [
    "%%bash\n",
    "aws emr create-cluster \\\n",
    "--name \"food-cluster\" \\\n",
    "--release-label emr-5.36.0 \\\n",
    "--applications Name=Spark \\\n",
    "--ec2-attributes KeyName=ec2KeyPair \\\n",
    "--instance-type m5.xlarge \\\n",
    "--instance-count 3 \\\n",
    "--use-default-roles"
   ]
  },
  {
   "cell_type": "markdown",
   "metadata": {},
   "source": [
    "Check cluster status"
   ]
  },
  {
   "cell_type": "code",
   "execution_count": 21,
   "metadata": {},
   "outputs": [
    {
     "name": "stdout",
     "output_type": "stream",
     "text": [
      "{\n",
      "    \"Cluster\": {\n",
      "        \"Id\": \"j-1ETWETHEL7UQQ\",\n",
      "        \"Name\": \"food-cluster\",\n",
      "        \"Status\": {\n",
      "            \"State\": \"WAITING\",\n",
      "            \"StateChangeReason\": {\n",
      "                \"Message\": \"Cluster ready to run steps.\"\n",
      "            },\n",
      "            \"Timeline\": {\n",
      "                \"CreationDateTime\": \"2022-07-06T11:12:45.882000-05:00\",\n",
      "                \"ReadyDateTime\": \"2022-07-06T11:17:46.676000-05:00\"\n",
      "            }\n",
      "        },\n",
      "        \"Ec2InstanceAttributes\": {\n",
      "            \"Ec2KeyName\": \"ec2KeyPair\",\n",
      "            \"RequestedEc2SubnetIds\": [],\n",
      "            \"Ec2AvailabilityZone\": \"us-east-1a\",\n",
      "            \"RequestedEc2AvailabilityZones\": [],\n",
      "            \"IamInstanceProfile\": \"EMR_EC2_DefaultRole\",\n",
      "            \"EmrManagedMasterSecurityGroup\": \"sg-0f721147b6edce673\",\n",
      "            \"EmrManagedSlaveSecurityGroup\": \"sg-0d673ae7607b1191c\"\n",
      "        },\n",
      "        \"InstanceCollectionType\": \"INSTANCE_GROUP\",\n",
      "        \"ReleaseLabel\": \"emr-5.36.0\",\n",
      "        \"AutoTerminate\": false,\n",
      "        \"TerminationProtected\": false,\n",
      "        \"VisibleToAllUsers\": true,\n",
      "        \"Applications\": [\n",
      "            {\n",
      "                \"Name\": \"Spark\",\n",
      "                \"Version\": \"2.4.8\"\n",
      "            }\n",
      "        ],\n",
      "        \"Tags\": [],\n",
      "        \"ServiceRole\": \"EMR_DefaultRole\",\n",
      "        \"NormalizedInstanceHours\": 0,\n",
      "        \"MasterPublicDnsName\": \"ec2-54-204-223-110.compute-1.amazonaws.com\",\n",
      "        \"Configurations\": [],\n",
      "        \"ScaleDownBehavior\": \"TERMINATE_AT_TASK_COMPLETION\",\n",
      "        \"KerberosAttributes\": {},\n",
      "        \"ClusterArn\": \"arn:aws:elasticmapreduce:us-east-1:211966428728:cluster/j-1ETWETHEL7UQQ\",\n",
      "        \"StepConcurrencyLevel\": 1,\n",
      "        \"PlacementGroups\": [],\n",
      "        \"OSReleaseLabel\": \"2.0.20220426.0\",\n",
      "        \"BootstrapActions\": [],\n",
      "        \"InstanceGroups\": [\n",
      "            {\n",
      "                \"Id\": \"ig-2K152Q275V6ZR\",\n",
      "                \"Name\": \"MASTER\",\n",
      "                \"Market\": \"ON_DEMAND\",\n",
      "                \"InstanceGroupType\": \"MASTER\",\n",
      "                \"InstanceType\": \"m5.xlarge\",\n",
      "                \"RequestedInstanceCount\": 1,\n",
      "                \"RunningInstanceCount\": 1,\n",
      "                \"Status\": {\n",
      "                    \"State\": \"RUNNING\",\n",
      "                    \"StateChangeReason\": {\n",
      "                        \"Message\": \"\"\n",
      "                    },\n",
      "                    \"Timeline\": {\n",
      "                        \"CreationDateTime\": \"2022-07-06T11:12:45.971000-05:00\",\n",
      "                        \"ReadyDateTime\": \"2022-07-06T11:17:07.689000-05:00\"\n",
      "                    }\n",
      "                },\n",
      "                \"Configurations\": [],\n",
      "                \"ConfigurationsVersion\": 0,\n",
      "                \"LastSuccessfullyAppliedConfigurations\": [],\n",
      "                \"LastSuccessfullyAppliedConfigurationsVersion\": 0,\n",
      "                \"EbsBlockDevices\": [\n",
      "                    {\n",
      "                        \"VolumeSpecification\": {\n",
      "                            \"VolumeType\": \"gp2\",\n",
      "                            \"SizeInGB\": 32\n",
      "                        },\n",
      "                        \"Device\": \"/dev/sdb\"\n",
      "                    },\n",
      "                    {\n",
      "                        \"VolumeSpecification\": {\n",
      "                            \"VolumeType\": \"gp2\",\n",
      "                            \"SizeInGB\": 32\n",
      "                        },\n",
      "                        \"Device\": \"/dev/sdc\"\n",
      "                    }\n",
      "                ],\n",
      "                \"ShrinkPolicy\": {}\n",
      "            },\n",
      "            {\n",
      "                \"Id\": \"ig-1ZLMRIA77WLS3\",\n",
      "                \"Name\": \"CORE\",\n",
      "                \"Market\": \"ON_DEMAND\",\n",
      "                \"InstanceGroupType\": \"CORE\",\n",
      "                \"InstanceType\": \"m5.xlarge\",\n",
      "                \"RequestedInstanceCount\": 2,\n",
      "                \"RunningInstanceCount\": 2,\n",
      "                \"Status\": {\n",
      "                    \"State\": \"RUNNING\",\n",
      "                    \"StateChangeReason\": {\n",
      "                        \"Message\": \"\"\n",
      "                    },\n",
      "                    \"Timeline\": {\n",
      "                        \"CreationDateTime\": \"2022-07-06T11:12:45.972000-05:00\",\n",
      "                        \"ReadyDateTime\": \"2022-07-06T11:17:46.676000-05:00\"\n",
      "                    }\n",
      "                },\n",
      "                \"Configurations\": [],\n",
      "                \"ConfigurationsVersion\": 0,\n",
      "                \"LastSuccessfullyAppliedConfigurations\": [],\n",
      "                \"LastSuccessfullyAppliedConfigurationsVersion\": 0,\n",
      "                \"EbsBlockDevices\": [\n",
      "                    {\n",
      "                        \"VolumeSpecification\": {\n",
      "                            \"VolumeType\": \"gp2\",\n",
      "                            \"SizeInGB\": 32\n",
      "                        },\n",
      "                        \"Device\": \"/dev/sdb\"\n",
      "                    },\n",
      "                    {\n",
      "                        \"VolumeSpecification\": {\n",
      "                            \"VolumeType\": \"gp2\",\n",
      "                            \"SizeInGB\": 32\n",
      "                        },\n",
      "                        \"Device\": \"/dev/sdc\"\n",
      "                    }\n",
      "                ],\n",
      "                \"ShrinkPolicy\": {}\n",
      "            }\n",
      "        ]\n",
      "    }\n",
      "}\n"
     ]
    }
   ],
   "source": [
    "!aws emr describe-cluster --cluster-id j-1ETWETHEL7UQQ"
   ]
  },
  {
   "cell_type": "markdown",
   "metadata": {},
   "source": [
    "## Submit work to cluster"
   ]
  },
  {
   "cell_type": "markdown",
   "metadata": {},
   "source": [
    "Submit `PySpark` script as a step"
   ]
  },
  {
   "cell_type": "code",
   "execution_count": 22,
   "metadata": {},
   "outputs": [
    {
     "name": "stdout",
     "output_type": "stream",
     "text": [
      "{\n",
      "    \"StepIds\": [\n",
      "        \"s-1BI75YE4G7C2R\"\n",
      "    ]\n",
      "}\n"
     ]
    }
   ],
   "source": [
    "!aws emr add-steps \\\n",
    "--cluster-id j-1ETWETHEL7UQQ \\\n",
    "--steps Type=Spark,Name=\"Spark Application Step\",ActionOnFailure=CONTINUE,Args=[s3://emr20220705-bucket/health_violations.py,--data_source,s3://emr20220705-bucket/food_establishment_data.csv,--output_uri,s3://emr20220705-bucket/MyOutputFolder]"
   ]
  },
  {
   "cell_type": "markdown",
   "metadata": {},
   "source": [
    "Query status of step"
   ]
  },
  {
   "cell_type": "code",
   "execution_count": 31,
   "metadata": {},
   "outputs": [
    {
     "name": "stdout",
     "output_type": "stream",
     "text": [
      "{\n",
      "    \"Step\": {\n",
      "        \"Id\": \"s-1BI75YE4G7C2R\",\n",
      "        \"Name\": \"Spark Application Step\",\n",
      "        \"Config\": {\n",
      "            \"Jar\": \"command-runner.jar\",\n",
      "            \"Properties\": {},\n",
      "            \"Args\": [\n",
      "                \"spark-submit\",\n",
      "                \"s3://emr20220705-bucket/health_violations.py\",\n",
      "                \"--data_source\",\n",
      "                \"s3://emr20220705-bucket/food_establishment_data.csv\",\n",
      "                \"--output_uri\",\n",
      "                \"s3://emr20220705-bucket/MyOutputFolder\"\n",
      "            ]\n",
      "        },\n",
      "        \"ActionOnFailure\": \"CONTINUE\",\n",
      "        \"Status\": {\n",
      "            \"State\": \"COMPLETED\",\n",
      "            \"StateChangeReason\": {},\n",
      "            \"Timeline\": {\n",
      "                \"CreationDateTime\": \"2022-07-06T11:21:15.863000-05:00\",\n",
      "                \"StartDateTime\": \"2022-07-06T11:21:29.842000-05:00\",\n",
      "                \"EndDateTime\": \"2022-07-06T11:22:02.061000-05:00\"\n",
      "            }\n",
      "        }\n",
      "    }\n",
      "}\n"
     ]
    }
   ],
   "source": [
    "!aws emr describe-step \\\n",
    "--cluster-id j-1ETWETHEL7UQQ \\\n",
    "--step-id s-1BI75YE4G7C2R"
   ]
  },
  {
   "cell_type": "markdown",
   "metadata": {},
   "source": [
    "View results"
   ]
  },
  {
   "cell_type": "code",
   "execution_count": 32,
   "metadata": {},
   "outputs": [
    {
     "name": "stdout",
     "output_type": "stream",
     "text": [
      "{\n",
      "    \"Contents\": [\n",
      "        {\n",
      "            \"Key\": \"MyOutputFolder/_SUCCESS\",\n",
      "            \"LastModified\": \"2022-07-06T16:22:00+00:00\",\n",
      "            \"ETag\": \"\\\"d41d8cd98f00b204e9800998ecf8427e\\\"\",\n",
      "            \"Size\": 0,\n",
      "            \"StorageClass\": \"STANDARD\",\n",
      "            \"Owner\": {\n",
      "                \"DisplayName\": \"ramirocadavid\",\n",
      "                \"ID\": \"473deab5a66936901bdb14e2e649f82810cd9ba06781c2e41076db8af13ba357\"\n",
      "            }\n",
      "        },\n",
      "        {\n",
      "            \"Key\": \"MyOutputFolder/part-00000-c872ba62-1ed7-4986-bf83-5608524cee7f-c000.csv\",\n",
      "            \"LastModified\": \"2022-07-06T16:21:59+00:00\",\n",
      "            \"ETag\": \"\\\"e0d83228014ebdd8848d89563cd8d4f1\\\"\",\n",
      "            \"Size\": 219,\n",
      "            \"StorageClass\": \"STANDARD\",\n",
      "            \"Owner\": {\n",
      "                \"DisplayName\": \"ramirocadavid\",\n",
      "                \"ID\": \"473deab5a66936901bdb14e2e649f82810cd9ba06781c2e41076db8af13ba357\"\n",
      "            }\n",
      "        },\n",
      "        {\n",
      "            \"Key\": \"food_establishment_data.csv\",\n",
      "            \"LastModified\": \"2022-07-06T16:09:26+00:00\",\n",
      "            \"ETag\": \"\\\"bac70373588490a8c1be0a71be46df85\\\"\",\n",
      "            \"Size\": 11879954,\n",
      "            \"StorageClass\": \"STANDARD\",\n",
      "            \"Owner\": {\n",
      "                \"DisplayName\": \"ramirocadavid\",\n",
      "                \"ID\": \"473deab5a66936901bdb14e2e649f82810cd9ba06781c2e41076db8af13ba357\"\n",
      "            }\n",
      "        },\n",
      "        {\n",
      "            \"Key\": \"health_violations.py\",\n",
      "            \"LastModified\": \"2022-07-06T16:10:50+00:00\",\n",
      "            \"ETag\": \"\\\"96241d93d4b3514f913993c12b72ae41\\\"\",\n",
      "            \"Size\": 1836,\n",
      "            \"StorageClass\": \"STANDARD\",\n",
      "            \"Owner\": {\n",
      "                \"DisplayName\": \"ramirocadavid\",\n",
      "                \"ID\": \"473deab5a66936901bdb14e2e649f82810cd9ba06781c2e41076db8af13ba357\"\n",
      "            }\n",
      "        }\n",
      "    ]\n",
      "}\n"
     ]
    }
   ],
   "source": [
    "!aws s3api list-objects --bucket emr20220705-bucket"
   ]
  },
  {
   "cell_type": "code",
   "execution_count": 37,
   "metadata": {},
   "outputs": [
    {
     "name": "stdout",
     "output_type": "stream",
     "text": [
      "{\n",
      "    \"AcceptRanges\": \"bytes\",\n",
      "    \"LastModified\": \"2022-07-06T16:21:59+00:00\",\n",
      "    \"ContentLength\": 219,\n",
      "    \"ETag\": \"\\\"e0d83228014ebdd8848d89563cd8d4f1\\\"\",\n",
      "    \"ContentType\": \"binary/octet-stream\",\n",
      "    \"Metadata\": {}\n",
      "}\n"
     ]
    }
   ],
   "source": [
    "!aws s3api get-object \\\n",
    "--bucket emr20220705-bucket \\\n",
    "--key MyOutputFolder/part-00000-c872ba62-1ed7-4986-bf83-5608524cee7f-c000.csv \\\n",
    "output.csv"
   ]
  },
  {
   "cell_type": "markdown",
   "metadata": {},
   "source": [
    "## Clean up resources"
   ]
  },
  {
   "cell_type": "markdown",
   "metadata": {},
   "source": [
    "Terminate cluster"
   ]
  },
  {
   "cell_type": "code",
   "execution_count": 38,
   "metadata": {},
   "outputs": [],
   "source": [
    "!aws emr terminate-clusters --cluster-ids j-1ETWETHEL7UQQ  "
   ]
  },
  {
   "cell_type": "code",
   "execution_count": 44,
   "metadata": {},
   "outputs": [
    {
     "name": "stdout",
     "output_type": "stream",
     "text": [
      "{\n",
      "    \"Cluster\": {\n",
      "        \"Id\": \"j-1ETWETHEL7UQQ\",\n",
      "        \"Name\": \"food-cluster\",\n",
      "        \"Status\": {\n",
      "            \"State\": \"TERMINATED\",\n",
      "            \"StateChangeReason\": {\n",
      "                \"Code\": \"USER_REQUEST\",\n",
      "                \"Message\": \"Terminated by user request\"\n",
      "            },\n",
      "            \"Timeline\": {\n",
      "                \"CreationDateTime\": \"2022-07-06T11:12:45.882000-05:00\",\n",
      "                \"ReadyDateTime\": \"2022-07-06T11:17:46.676000-05:00\",\n",
      "                \"EndDateTime\": \"2022-07-06T11:28:37.614000-05:00\"\n",
      "            }\n",
      "        },\n",
      "        \"Ec2InstanceAttributes\": {\n",
      "            \"Ec2KeyName\": \"ec2KeyPair\",\n",
      "            \"RequestedEc2SubnetIds\": [],\n",
      "            \"Ec2AvailabilityZone\": \"us-east-1a\",\n",
      "            \"RequestedEc2AvailabilityZones\": [],\n",
      "            \"IamInstanceProfile\": \"EMR_EC2_DefaultRole\",\n",
      "            \"EmrManagedMasterSecurityGroup\": \"sg-0f721147b6edce673\",\n",
      "            \"EmrManagedSlaveSecurityGroup\": \"sg-0d673ae7607b1191c\"\n",
      "        },\n",
      "        \"InstanceCollectionType\": \"INSTANCE_GROUP\",\n",
      "        \"ReleaseLabel\": \"emr-5.36.0\",\n",
      "        \"AutoTerminate\": false,\n",
      "        \"TerminationProtected\": false,\n",
      "        \"VisibleToAllUsers\": true,\n",
      "        \"Applications\": [\n",
      "            {\n",
      "                \"Name\": \"Spark\",\n",
      "                \"Version\": \"2.4.8\"\n",
      "            }\n",
      "        ],\n",
      "        \"Tags\": [],\n",
      "        \"ServiceRole\": \"EMR_DefaultRole\",\n",
      "        \"NormalizedInstanceHours\": 24,\n",
      "        \"MasterPublicDnsName\": \"ec2-54-204-223-110.compute-1.amazonaws.com\",\n",
      "        \"Configurations\": [],\n",
      "        \"ScaleDownBehavior\": \"TERMINATE_AT_TASK_COMPLETION\",\n",
      "        \"KerberosAttributes\": {},\n",
      "        \"ClusterArn\": \"arn:aws:elasticmapreduce:us-east-1:211966428728:cluster/j-1ETWETHEL7UQQ\",\n",
      "        \"StepConcurrencyLevel\": 1,\n",
      "        \"PlacementGroups\": [],\n",
      "        \"OSReleaseLabel\": \"2.0.20220426.0\",\n",
      "        \"BootstrapActions\": [],\n",
      "        \"InstanceGroups\": [\n",
      "            {\n",
      "                \"Id\": \"ig-2K152Q275V6ZR\",\n",
      "                \"Name\": \"MASTER\",\n",
      "                \"Market\": \"ON_DEMAND\",\n",
      "                \"InstanceGroupType\": \"MASTER\",\n",
      "                \"InstanceType\": \"m5.xlarge\",\n",
      "                \"RequestedInstanceCount\": 1,\n",
      "                \"RunningInstanceCount\": 0,\n",
      "                \"Status\": {\n",
      "                    \"State\": \"TERMINATED\",\n",
      "                    \"StateChangeReason\": {\n",
      "                        \"Code\": \"CLUSTER_TERMINATED\",\n",
      "                        \"Message\": \"Job flow terminated\"\n",
      "                    },\n",
      "                    \"Timeline\": {\n",
      "                        \"CreationDateTime\": \"2022-07-06T11:12:45.971000-05:00\",\n",
      "                        \"ReadyDateTime\": \"2022-07-06T11:17:07.689000-05:00\",\n",
      "                        \"EndDateTime\": \"2022-07-06T11:28:37.575000-05:00\"\n",
      "                    }\n",
      "                },\n",
      "                \"Configurations\": [],\n",
      "                \"ConfigurationsVersion\": 0,\n",
      "                \"LastSuccessfullyAppliedConfigurations\": [],\n",
      "                \"LastSuccessfullyAppliedConfigurationsVersion\": 0,\n",
      "                \"EbsBlockDevices\": [\n",
      "                    {\n",
      "                        \"VolumeSpecification\": {\n",
      "                            \"VolumeType\": \"gp2\",\n",
      "                            \"SizeInGB\": 32\n",
      "                        },\n",
      "                        \"Device\": \"/dev/sdb\"\n",
      "                    },\n",
      "                    {\n",
      "                        \"VolumeSpecification\": {\n",
      "                            \"VolumeType\": \"gp2\",\n",
      "                            \"SizeInGB\": 32\n",
      "                        },\n",
      "                        \"Device\": \"/dev/sdc\"\n",
      "                    }\n",
      "                ],\n",
      "                \"ShrinkPolicy\": {}\n",
      "            },\n",
      "            {\n",
      "                \"Id\": \"ig-1ZLMRIA77WLS3\",\n",
      "                \"Name\": \"CORE\",\n",
      "                \"Market\": \"ON_DEMAND\",\n",
      "                \"InstanceGroupType\": \"CORE\",\n",
      "                \"InstanceType\": \"m5.xlarge\",\n",
      "                \"RequestedInstanceCount\": 2,\n",
      "                \"RunningInstanceCount\": 0,\n",
      "                \"Status\": {\n",
      "                    \"State\": \"TERMINATED\",\n",
      "                    \"StateChangeReason\": {\n",
      "                        \"Code\": \"CLUSTER_TERMINATED\",\n",
      "                        \"Message\": \"Job flow terminated\"\n",
      "                    },\n",
      "                    \"Timeline\": {\n",
      "                        \"CreationDateTime\": \"2022-07-06T11:12:45.972000-05:00\",\n",
      "                        \"ReadyDateTime\": \"2022-07-06T11:17:46.676000-05:00\",\n",
      "                        \"EndDateTime\": \"2022-07-06T11:28:37.575000-05:00\"\n",
      "                    }\n",
      "                },\n",
      "                \"Configurations\": [],\n",
      "                \"ConfigurationsVersion\": 0,\n",
      "                \"LastSuccessfullyAppliedConfigurations\": [],\n",
      "                \"LastSuccessfullyAppliedConfigurationsVersion\": 0,\n",
      "                \"EbsBlockDevices\": [\n",
      "                    {\n",
      "                        \"VolumeSpecification\": {\n",
      "                            \"VolumeType\": \"gp2\",\n",
      "                            \"SizeInGB\": 32\n",
      "                        },\n",
      "                        \"Device\": \"/dev/sdb\"\n",
      "                    },\n",
      "                    {\n",
      "                        \"VolumeSpecification\": {\n",
      "                            \"VolumeType\": \"gp2\",\n",
      "                            \"SizeInGB\": 32\n",
      "                        },\n",
      "                        \"Device\": \"/dev/sdc\"\n",
      "                    }\n",
      "                ],\n",
      "                \"ShrinkPolicy\": {}\n",
      "            }\n",
      "        ]\n",
      "    }\n",
      "}\n"
     ]
    }
   ],
   "source": [
    "!aws emr describe-cluster --cluster-id j-1ETWETHEL7UQQ"
   ]
  },
  {
   "cell_type": "markdown",
   "metadata": {},
   "source": [
    "Delete S3 bucket"
   ]
  },
  {
   "cell_type": "code",
   "execution_count": 42,
   "metadata": {},
   "outputs": [
    {
     "name": "stdout",
     "output_type": "stream",
     "text": [
      "\u001b[0;32m\"MyOutputFolder/_SUCCESS\"\u001b[0m\n",
      "\u001b[0;32m\"MyOutputFolder/part-00000-c872ba62-1ed7-4986-bf83-5608524cee7f-c000.csv\"\u001b[0m\n",
      "\u001b[0;32m\"food_establishment_data.csv\"\u001b[0m\n",
      "\u001b[0;32m\"health_violations.py\"\u001b[0m\n"
     ]
    }
   ],
   "source": [
    "!aws s3api list-objects --bucket emr20220705-bucket | jq .Contents[].Key"
   ]
  },
  {
   "cell_type": "code",
   "execution_count": 43,
   "metadata": {},
   "outputs": [
    {
     "name": "stdout",
     "output_type": "stream",
     "text": [
      "{\n",
      "    \"Deleted\": [\n",
      "        {\n",
      "            \"Key\": \"food_establishment_data.csv\"\n",
      "        },\n",
      "        {\n",
      "            \"Key\": \"MyOutputFolder/_SUCCESS\"\n",
      "        },\n",
      "        {\n",
      "            \"Key\": \"health_violations.py\"\n",
      "        },\n",
      "        {\n",
      "            \"Key\": \"MyOutputFolder/part-00000-c872ba62-1ed7-4986-bf83-5608524cee7f-c000.csv\"\n",
      "        }\n",
      "    ]\n",
      "}\n"
     ]
    }
   ],
   "source": [
    "!aws s3api delete-objects \\\n",
    "--bucket emr20220705-bucket \\\n",
    "--delete Objects=[{Key=MyOutputFolder/_SUCCESS},{Key=MyOutputFolder/part-00000-c872ba62-1ed7-4986-bf83-5608524cee7f-c000.csv},{Key=food_establishment_data.csv},{Key=health_violations.py}]"
   ]
  },
  {
   "cell_type": "code",
   "execution_count": 45,
   "metadata": {},
   "outputs": [],
   "source": [
    "!aws s3api delete-bucket --bucket emr20220705-bucket"
   ]
  },
  {
   "cell_type": "markdown",
   "metadata": {},
   "source": [
    "Check that bucket was deleted"
   ]
  },
  {
   "cell_type": "code",
   "execution_count": 46,
   "metadata": {},
   "outputs": [
    {
     "name": "stdout",
     "output_type": "stream",
     "text": [
      "\u001b[0;32m\"aws-athena-query-results-211966428728-us-east-1\"\u001b[0m\n"
     ]
    }
   ],
   "source": [
    "!aws s3api list-buckets | jq .Buckets[].Name"
   ]
  }
 ],
 "metadata": {
  "kernelspec": {
   "display_name": "Python 3.10.4 ('main')",
   "language": "python",
   "name": "python3"
  },
  "language_info": {
   "codemirror_mode": {
    "name": "ipython",
    "version": 3
   },
   "file_extension": ".py",
   "mimetype": "text/x-python",
   "name": "python",
   "nbconvert_exporter": "python",
   "pygments_lexer": "ipython3",
   "version": "3.10.4"
  },
  "orig_nbformat": 4,
  "vscode": {
   "interpreter": {
    "hash": "47b03cd69c88b9e050093e719cbe9ec8900da537c302f856dad35089a609732c"
   }
  }
 },
 "nbformat": 4,
 "nbformat_minor": 2
}
